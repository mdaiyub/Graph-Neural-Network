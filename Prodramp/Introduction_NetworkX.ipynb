{
  "nbformat": 4,
  "nbformat_minor": 0,
  "metadata": {
    "colab": {
      "provenance": [],
      "include_colab_link": true
    },
    "kernelspec": {
      "name": "python3",
      "display_name": "Python 3"
    },
    "language_info": {
      "name": "python"
    }
  },
  "cells": [
    {
      "cell_type": "markdown",
      "metadata": {
        "id": "view-in-github",
        "colab_type": "text"
      },
      "source": [
        "<a href=\"https://colab.research.google.com/github/mdaiyub/Graph-Neural-Network/blob/main/Prodramp/Introduction_NetworkX.ipynb\" target=\"_parent\"><img src=\"https://colab.research.google.com/assets/colab-badge.svg\" alt=\"Open In Colab\"/></a>"
      ]
    },
    {
      "cell_type": "code",
      "execution_count": 23,
      "metadata": {
        "id": "PyFt-L8fSWHD",
        "colab": {
          "base_uri": "https://localhost:8080/"
        },
        "outputId": "f3e64ef5-40ab-4d6a-ab4c-efb8bf53569d"
      },
      "outputs": [
        {
          "output_type": "stream",
          "name": "stdout",
          "text": [
            "Looking in indexes: https://pypi.org/simple, https://us-python.pkg.dev/colab-wheels/public/simple/\n",
            "Requirement already satisfied: scipy in /usr/local/lib/python3.9/dist-packages (1.10.1)\n",
            "Requirement already satisfied: networkx in /usr/local/lib/python3.9/dist-packages (3.0)\n",
            "Requirement already satisfied: numpy<1.27.0,>=1.19.5 in /usr/local/lib/python3.9/dist-packages (from scipy) (1.22.4)\n"
          ]
        }
      ],
      "source": [
        "import networkx as nx\n",
        "!pip install --upgrade scipy networkx"
      ]
    },
    {
      "cell_type": "code",
      "source": [
        "import matplotlib.pyplot as plt"
      ],
      "metadata": {
        "id": "zaDvgwHpT02S"
      },
      "execution_count": 2,
      "outputs": []
    },
    {
      "cell_type": "code",
      "source": [
        "G = nx.Graph()\n",
        "G.add_edge(1, 2)\n",
        "G.add_edge(3, 2)\n",
        "# Adding it later\n",
        "G.add_edge(3,3)\n",
        "nx.draw(G, cmap=plt.get_cmap('viridis'), node_color=G, with_labels=True,)\n",
        "print(nx.is_weighted(G))\n",
        "print(nx.is_directed(G))"
      ],
      "metadata": {
        "id": "h_s9qsGEWYB9",
        "colab": {
          "base_uri": "https://localhost:8080/",
          "height": 354
        },
        "outputId": "7d1bbe4b-9fdb-45dc-dd40-2037320eddac"
      },
      "execution_count": 24,
      "outputs": [
        {
          "output_type": "stream",
          "name": "stdout",
          "text": [
            "False\n",
            "False\n"
          ]
        },
        {
          "output_type": "display_data",
          "data": {
            "text/plain": [
              "<Figure size 432x288 with 1 Axes>"
            ],
            "image/png": "[encoded data removed]"
          },
          "metadata": {}
        }
      ]
    },
    {
      "cell_type": "code",
      "source": [
        "#nx.to_numpy_matrix(G)"
      ],
      "metadata": {
        "id": "7Z4EKoGaWcYT"
      },
      "execution_count": 29,
      "outputs": []
    },
    {
      "cell_type": "code",
      "source": [
        "G = nx.Graph()\n",
        "G.add_edge(1, 2, weight=1)\n",
        "G.add_edge(3, 2, weight=5)\n",
        "# Adding it later\n",
        "G.add_edge(3,3, weight=3)\n",
        "G.add_edge(2,2, weight=6)\n",
        "G.add_edge(1,1, weight=9)\n",
        "nx.draw(G, cmap=plt.get_cmap('viridis'), node_color=G, with_labels=True)\n",
        "print(nx.is_weighted(G))\n",
        "print(nx.is_directed(G))"
      ],
      "metadata": {
        "id": "9M7dGdqxSkIi",
        "colab": {
          "base_uri": "https://localhost:8080/",
          "height": 354
        },
        "outputId": "185f411a-cdfb-4275-f48f-03ca58e82bcb"
      },
      "execution_count": 30,
      "outputs": [
        {
          "output_type": "stream",
          "name": "stdout",
          "text": [
            "True\n",
            "False\n"
          ]
        },
        {
          "output_type": "display_data",
          "data": {
            "text/plain": [
              "<Figure size 432x288 with 1 Axes>"
            ],
            "image/png": "[encoded data removed]"
          },
          "metadata": {}
        }
      ]
    },
    {
      "cell_type": "code",
      "source": [
        "#nx.to_numpy_matrix(G)"
      ],
      "metadata": {
        "id": "tcnR7fmqqSwr"
      },
      "execution_count": 32,
      "outputs": []
    },
    {
      "cell_type": "code",
      "source": [
        "nx.to_numpy_matrix(G)"
      ],
      "metadata": {
        "id": "hfMR5aGhWh_9"
      },
      "execution_count": null,
      "outputs": []
    },
    {
      "cell_type": "code",
      "source": [
        "I = nx.incidence_matrix(G)"
      ],
      "metadata": {
        "id": "bCZvC3AeS7Ou"
      },
      "execution_count": 33,
      "outputs": []
    },
    {
      "cell_type": "code",
      "source": [
        "I.data"
      ],
      "metadata": {
        "id": "1hA1Sr__TBJR",
        "colab": {
          "base_uri": "https://localhost:8080/"
        },
        "outputId": "44dadbbd-97c6-40e6-c57a-43dadb8ecb38"
      },
      "execution_count": 34,
      "outputs": [
        {
          "output_type": "execute_result",
          "data": {
            "text/plain": [
              "array([1., 1., 1., 1.])"
            ]
          },
          "metadata": {},
          "execution_count": 34
        }
      ]
    },
    {
      "cell_type": "code",
      "source": [
        "I.todense()"
      ],
      "metadata": {
        "id": "AvHTGPR_aEQW",
        "colab": {
          "base_uri": "https://localhost:8080/"
        },
        "outputId": "b3193882-c5ed-45b8-9284-c6c20208c4f0"
      },
      "execution_count": 35,
      "outputs": [
        {
          "output_type": "execute_result",
          "data": {
            "text/plain": [
              "array([[1., 0., 0., 0., 0.],\n",
              "       [1., 0., 1., 0., 0.],\n",
              "       [0., 0., 1., 0., 0.]])"
            ]
          },
          "metadata": {},
          "execution_count": 35
        }
      ]
    },
    {
      "cell_type": "code",
      "source": [
        "A = nx.adjacency_matrix(G)"
      ],
      "metadata": {
        "id": "Hz0nee9GBeBn"
      },
      "execution_count": 36,
      "outputs": []
    },
    {
      "cell_type": "code",
      "source": [
        "A.todense()"
      ],
      "metadata": {
        "id": "7gIBFaaCBhWN",
        "colab": {
          "base_uri": "https://localhost:8080/"
        },
        "outputId": "24a26fa4-9a20-4cb0-9dcf-5925aca32dd8"
      },
      "execution_count": 37,
      "outputs": [
        {
          "output_type": "execute_result",
          "data": {
            "text/plain": [
              "array([[9, 1, 0],\n",
              "       [1, 6, 5],\n",
              "       [0, 5, 3]])"
            ]
          },
          "metadata": {},
          "execution_count": 37
        }
      ]
    },
    {
      "cell_type": "code",
      "source": [
        "A.diagonal()"
      ],
      "metadata": {
        "id": "dzhMDsK_CDi4",
        "colab": {
          "base_uri": "https://localhost:8080/"
        },
        "outputId": "57dd192d-6905-4eb0-d8ee-b1ff29192e7f"
      },
      "execution_count": 38,
      "outputs": [
        {
          "output_type": "execute_result",
          "data": {
            "text/plain": [
              "array([9, 6, 3])"
            ]
          },
          "metadata": {},
          "execution_count": 38
        }
      ]
    },
    {
      "cell_type": "code",
      "source": [
        "G = nx.DiGraph()\n",
        "G.add_edge(1, 2, weight=1)\n",
        "G.add_edge(3, 2, weight=5)\n",
        "G.add_edge(3, 1, weight=10)\n",
        "# Adding it later\n",
        "#G.add_edge(3,3)\n",
        "nx.draw(G, cmap=plt.get_cmap('viridis'), node_color=G, with_labels=True,)\n",
        "print(nx.is_weighted(G))\n",
        "print(nx.is_directed(G))"
      ],
      "metadata": {
        "id": "5gS9pFLZSkvj",
        "colab": {
          "base_uri": "https://localhost:8080/",
          "height": 354
        },
        "outputId": "79e54498-e4fa-4ec9-fe74-44752b0af202"
      },
      "execution_count": 41,
      "outputs": [
        {
          "output_type": "stream",
          "name": "stdout",
          "text": [
            "True\n",
            "True\n"
          ]
        },
        {
          "output_type": "display_data",
          "data": {
            "text/plain": [
              "<Figure size 432x288 with 1 Axes>"
            ],
            "image/png": "[encoded data removed]"
          },
          "metadata": {}
        }
      ]
    },
    {
      "cell_type": "code",
      "source": [
        "I = nx.incidence_matrix(G)"
      ],
      "metadata": {
        "id": "b2zSUZ56S28h"
      },
      "execution_count": 42,
      "outputs": []
    },
    {
      "cell_type": "code",
      "source": [
        "I.data"
      ],
      "metadata": {
        "id": "SG3ctsDoTKsP",
        "colab": {
          "base_uri": "https://localhost:8080/"
        },
        "outputId": "9e31ba5d-8ac9-4756-dd26-680bcf2437e6"
      },
      "execution_count": 43,
      "outputs": [
        {
          "output_type": "execute_result",
          "data": {
            "text/plain": [
              "array([1., 1., 1., 1., 1., 1.])"
            ]
          },
          "metadata": {},
          "execution_count": 43
        }
      ]
    },
    {
      "cell_type": "code",
      "source": [
        "I.diagonal()"
      ],
      "metadata": {
        "id": "2DP2AM_1TLhz",
        "colab": {
          "base_uri": "https://localhost:8080/"
        },
        "outputId": "2f59c005-0555-4889-e7e6-24963129cced"
      },
      "execution_count": 44,
      "outputs": [
        {
          "output_type": "execute_result",
          "data": {
            "text/plain": [
              "array([1., 1., 1.])"
            ]
          },
          "metadata": {},
          "execution_count": 44
        }
      ]
    },
    {
      "cell_type": "code",
      "source": [
        "I.todense()"
      ],
      "metadata": {
        "id": "llh9INQ6aKmJ",
        "colab": {
          "base_uri": "https://localhost:8080/"
        },
        "outputId": "89d8ced3-0959-49e6-a7ae-86792b0bb296"
      },
      "execution_count": 45,
      "outputs": [
        {
          "output_type": "execute_result",
          "data": {
            "text/plain": [
              "array([[1., 0., 1.],\n",
              "       [1., 1., 0.],\n",
              "       [0., 1., 1.]])"
            ]
          },
          "metadata": {},
          "execution_count": 45
        }
      ]
    },
    {
      "cell_type": "code",
      "source": [
        "A = nx.adjacency_matrix(G)"
      ],
      "metadata": {
        "id": "PxJNjf33rDyN"
      },
      "execution_count": 46,
      "outputs": []
    },
    {
      "cell_type": "code",
      "source": [
        "A.todense()"
      ],
      "metadata": {
        "id": "J_FyjKwJrHSW",
        "colab": {
          "base_uri": "https://localhost:8080/"
        },
        "outputId": "9dc7be54-2bba-472e-dd03-76a42537e745"
      },
      "execution_count": 47,
      "outputs": [
        {
          "output_type": "execute_result",
          "data": {
            "text/plain": [
              "array([[ 0,  1,  0],\n",
              "       [ 0,  0,  0],\n",
              "       [10,  5,  0]])"
            ]
          },
          "metadata": {},
          "execution_count": 47
        }
      ]
    },
    {
      "cell_type": "code",
      "source": [
        "G = nx.Graph()\n",
        "G.add_edge(1, 2, weight=1)\n",
        "G.add_edge(3, 2, weight=5)\n",
        "# Adding it later\n",
        "G.add_edge(3,3, weight=3)\n",
        "G.add_edge(2,2, weight=6)\n",
        "G.add_edge(1,1, weight=9)\n",
        "nx.draw(G, cmap=plt.get_cmap('viridis'), node_color=G, with_labels=True)\n",
        "print(nx.is_weighted(G))\n",
        "print(nx.is_directed(G))"
      ],
      "metadata": {
        "id": "mtONqZuKCbAB",
        "colab": {
          "base_uri": "https://localhost:8080/",
          "height": 354
        },
        "outputId": "272e94a8-136e-4f0f-e5d5-dc40f0c0ca21"
      },
      "execution_count": 48,
      "outputs": [
        {
          "output_type": "stream",
          "name": "stdout",
          "text": [
            "True\n",
            "False\n"
          ]
        },
        {
          "output_type": "display_data",
          "data": {
            "text/plain": [
              "<Figure size 432x288 with 1 Axes>"
            ],
            "image/png": "[encoded data removed]"
          },
          "metadata": {}
        }
      ]
    },
    {
      "cell_type": "code",
      "source": [
        "# Node: Try laplacian_matrix with both directed and undirected graph\n",
        "L = nx.laplacian_matrix(G)"
      ],
      "metadata": {
        "id": "GGm9t6VnTQvi"
      },
      "execution_count": 49,
      "outputs": []
    },
    {
      "cell_type": "code",
      "source": [
        "L.data"
      ],
      "metadata": {
        "id": "6MqjkbUCULCD",
        "colab": {
          "base_uri": "https://localhost:8080/"
        },
        "outputId": "29767e22-2acf-4739-cba6-865a179fa817"
      },
      "execution_count": 50,
      "outputs": [
        {
          "output_type": "execute_result",
          "data": {
            "text/plain": [
              "array([ 1, -1, -1,  6, -5, -5,  5])"
            ]
          },
          "metadata": {},
          "execution_count": 50
        }
      ]
    },
    {
      "cell_type": "code",
      "source": [
        "L.todense()"
      ],
      "metadata": {
        "id": "mvBerY1WaV0s",
        "colab": {
          "base_uri": "https://localhost:8080/"
        },
        "outputId": "4f27f160-f377-42ed-dba5-4686e8ab5627"
      },
      "execution_count": 51,
      "outputs": [
        {
          "output_type": "execute_result",
          "data": {
            "text/plain": [
              "array([[ 1, -1,  0],\n",
              "       [-1,  6, -5],\n",
              "       [ 0, -5,  5]])"
            ]
          },
          "metadata": {},
          "execution_count": 51
        }
      ]
    },
    {
      "cell_type": "code",
      "source": [
        "A = nx.adjacency_matrix(G)"
      ],
      "metadata": {
        "id": "X3ho0BcjUTYx"
      },
      "execution_count": 52,
      "outputs": []
    },
    {
      "cell_type": "code",
      "source": [
        "A.data"
      ],
      "metadata": {
        "id": "fmiAMWQmVG0Z",
        "colab": {
          "base_uri": "https://localhost:8080/"
        },
        "outputId": "0e81bad0-4acb-48b3-a25d-91e96f12c17d"
      },
      "execution_count": 53,
      "outputs": [
        {
          "output_type": "execute_result",
          "data": {
            "text/plain": [
              "array([9, 1, 1, 6, 5, 5, 3])"
            ]
          },
          "metadata": {},
          "execution_count": 53
        }
      ]
    },
    {
      "cell_type": "code",
      "source": [
        "A.shape"
      ],
      "metadata": {
        "id": "_atnJyAVVXb9",
        "colab": {
          "base_uri": "https://localhost:8080/"
        },
        "outputId": "e1a9da89-b092-426f-cfe8-51ca6d25dd1c"
      },
      "execution_count": 54,
      "outputs": [
        {
          "output_type": "execute_result",
          "data": {
            "text/plain": [
              "(3, 3)"
            ]
          },
          "metadata": {},
          "execution_count": 54
        }
      ]
    },
    {
      "cell_type": "code",
      "source": [
        "A.todense()"
      ],
      "metadata": {
        "id": "A9XfZB2yaaWS",
        "colab": {
          "base_uri": "https://localhost:8080/"
        },
        "outputId": "b1f8b6b2-fd82-43ab-bd0e-0cd0bad042e9"
      },
      "execution_count": 55,
      "outputs": [
        {
          "output_type": "execute_result",
          "data": {
            "text/plain": [
              "array([[9, 1, 0],\n",
              "       [1, 6, 5],\n",
              "       [0, 5, 3]])"
            ]
          },
          "metadata": {},
          "execution_count": 55
        }
      ]
    },
    {
      "cell_type": "code",
      "source": [
        "#A = nx.to_numpy_matrix(G) "
      ],
      "metadata": {
        "id": "awzm1_lCVHyM"
      },
      "execution_count": 57,
      "outputs": []
    },
    {
      "cell_type": "code",
      "source": [
        "A"
      ],
      "metadata": {
        "id": "nXMZAdAPVVIu",
        "colab": {
          "base_uri": "https://localhost:8080/"
        },
        "outputId": "f50d2aea-37a3-4ac7-ff8a-cb88bdb08aa5"
      },
      "execution_count": 58,
      "outputs": [
        {
          "output_type": "execute_result",
          "data": {
            "text/plain": [
              "<3x3 sparse array of type '<class 'numpy.int64'>'\n",
              "\twith 7 stored elements in Compressed Sparse Row format>"
            ]
          },
          "metadata": {},
          "execution_count": 58
        }
      ]
    },
    {
      "cell_type": "code",
      "source": [
        "G.edges"
      ],
      "metadata": {
        "id": "My_xIeR7VvIJ",
        "colab": {
          "base_uri": "https://localhost:8080/"
        },
        "outputId": "13e33b8d-cb7a-400d-e498-4aca39432885"
      },
      "execution_count": 59,
      "outputs": [
        {
          "output_type": "execute_result",
          "data": {
            "text/plain": [
              "EdgeView([(1, 2), (1, 1), (2, 3), (2, 2), (3, 3)])"
            ]
          },
          "metadata": {},
          "execution_count": 59
        }
      ]
    },
    {
      "cell_type": "code",
      "source": [
        "G.nodes"
      ],
      "metadata": {
        "id": "-ePyCwMjV2kB",
        "colab": {
          "base_uri": "https://localhost:8080/"
        },
        "outputId": "4f77b74d-99c0-47a2-b157-c6be03c0ea5f"
      },
      "execution_count": 60,
      "outputs": [
        {
          "output_type": "execute_result",
          "data": {
            "text/plain": [
              "NodeView((1, 2, 3))"
            ]
          },
          "metadata": {},
          "execution_count": 60
        }
      ]
    },
    {
      "cell_type": "markdown",
      "source": [
        "# **Representing Graph in class framework**"
      ],
      "metadata": {
        "id": "7w1vSVMXDMqX"
      }
    },
    {
      "cell_type": "code",
      "source": [
        "G = nx.Graph()\n",
        "G.add_edges_from(\n",
        "    [('A', 'B'), ('A', 'C'), ('D', 'B'), ('E', 'C'), ('E', 'F'),\n",
        "     ('B', 'H'), ('B', 'G'), ('B', 'F'), ('C', 'G')])\n",
        "\n",
        "val_map = {'A': 1.0,\n",
        "           'D': 0.5,\n",
        "           'F': 0.7,\n",
        "           'G': 0.9,\n",
        "           'H': 0.0}\n",
        "\n",
        "values = [val_map.get(node, .7) for node in G.nodes()]\n",
        "\n",
        "nx.draw(G, cmap=plt.get_cmap('viridis'), node_color=values, with_labels=True, font_color='white')\n",
        "plt.show()"
      ],
      "metadata": {
        "id": "y8WoJN3LXprF",
        "colab": {
          "base_uri": "https://localhost:8080/",
          "height": 319
        },
        "outputId": "e01e3ca1-0e3d-44e1-e1d6-a1d73891958b"
      },
      "execution_count": 63,
      "outputs": [
        {
          "output_type": "display_data",
          "data": {
            "text/plain": [
              "<Figure size 432x288 with 1 Axes>"
            ],
            "image/png": "[encoded data removed]"
          },
          "metadata": {}
        }
      ]
    },
    {
      "cell_type": "code",
      "source": [
        "#G = nx.DiGraph() # for Laplacian Matrix you can not use the directed graph\n",
        "G = nx.Graph() \n",
        "G.add_edges_from(\n",
        "    [('A', 'B'), ('A', 'C'), ('B', 'D'), ('C', 'E'), ('C', 'F'),\n",
        "     ('E', 'F'), ('D', 'F'),\n",
        "     ('B', 'B'), ('F', 'F')\n",
        "     ])\n",
        "\n",
        "val_map = {'A': 1.0,\n",
        "           'B': 2.0,\n",
        "           'C': 3.0,\n",
        "           'D': 4.0, 'E': 5.0, 'F': 6.0}\n",
        "values = [val_map.get(node, 0.25) for node in G.nodes()]\n",
        "nx.draw(G, cmap=plt.get_cmap('viridis'), with_labels=True, node_color=values, font_color='red')\n",
        "\n",
        "print(nx.is_weighted(G))\n",
        "print(nx.is_directed(G))"
      ],
      "metadata": {
        "id": "5uXDGIwcV7t0",
        "colab": {
          "base_uri": "https://localhost:8080/",
          "height": 354
        },
        "outputId": "829453c5-5ecc-4951-d689-cc0134c1d4fd"
      },
      "execution_count": 64,
      "outputs": [
        {
          "output_type": "stream",
          "name": "stdout",
          "text": [
            "False\n",
            "False\n"
          ]
        },
        {
          "output_type": "display_data",
          "data": {
            "text/plain": [
              "<Figure size 432x288 with 1 Axes>"
            ],
            "image/png": "[encoded data removed]"
          },
          "metadata": {}
        }
      ]
    },
    {
      "cell_type": "code",
      "source": [
        "A = nx.adjacency_matrix(G)"
      ],
      "metadata": {
        "id": "7HcvHokIYVPg"
      },
      "execution_count": 65,
      "outputs": []
    },
    {
      "cell_type": "code",
      "source": [
        "A.data"
      ],
      "metadata": {
        "id": "UFni9I3yZ4CI",
        "colab": {
          "base_uri": "https://localhost:8080/"
        },
        "outputId": "81908dc0-96eb-485d-acc9-0d513e546e5a"
      },
      "execution_count": 66,
      "outputs": [
        {
          "output_type": "execute_result",
          "data": {
            "text/plain": [
              "array([1, 1, 1, 1, 1, 1, 1, 1, 1, 1, 1, 1, 1, 1, 1, 1])"
            ]
          },
          "metadata": {},
          "execution_count": 66
        }
      ]
    },
    {
      "cell_type": "code",
      "source": [
        "print(A.todense())"
      ],
      "metadata": {
        "id": "TmGKagwPZ4qw",
        "colab": {
          "base_uri": "https://localhost:8080/"
        },
        "outputId": "fb58d4e8-3a80-4b8e-a817-ee92848f958f"
      },
      "execution_count": 67,
      "outputs": [
        {
          "output_type": "stream",
          "name": "stdout",
          "text": [
            "[[0 1 1 0 0 0]\n",
            " [1 1 0 1 0 0]\n",
            " [1 0 0 0 1 1]\n",
            " [0 1 0 0 0 1]\n",
            " [0 0 1 0 0 1]\n",
            " [0 0 1 1 1 1]]\n"
          ]
        }
      ]
    },
    {
      "cell_type": "code",
      "source": [
        "A.setdiag(A.diagonal())"
      ],
      "metadata": {
        "id": "vMxSyzwoZ-hX",
        "colab": {
          "base_uri": "https://localhost:8080/"
        },
        "outputId": "65180eea-f3f5-4290-da1a-3645d3de3fef"
      },
      "execution_count": 68,
      "outputs": [
        {
          "output_type": "stream",
          "name": "stderr",
          "text": [
            "/usr/local/lib/python3.9/dist-packages/scipy/sparse/_index.py:146: SparseEfficiencyWarning: Changing the sparsity structure of a csr_matrix is expensive. lil_matrix is more efficient.\n",
            "  self._set_arrayXarray(i, j, x)\n"
          ]
        }
      ]
    },
    {
      "cell_type": "code",
      "source": [
        "print(A.diagonal())"
      ],
      "metadata": {
        "id": "yOjIIvdhbHwF",
        "colab": {
          "base_uri": "https://localhost:8080/"
        },
        "outputId": "dbfdbaa4-d28f-46ea-cf2d-cd8c777004fc"
      },
      "execution_count": 69,
      "outputs": [
        {
          "output_type": "stream",
          "name": "stdout",
          "text": [
            "[0 1 0 0 0 1]\n"
          ]
        }
      ]
    },
    {
      "cell_type": "code",
      "source": [
        "L = nx.laplacian_matrix(G)"
      ],
      "metadata": {
        "id": "wMcLH1GGbI8G"
      },
      "execution_count": 70,
      "outputs": []
    },
    {
      "cell_type": "code",
      "source": [
        "L.todense()"
      ],
      "metadata": {
        "id": "hpQbfbQBbaCE",
        "colab": {
          "base_uri": "https://localhost:8080/"
        },
        "outputId": "a83adb78-472a-4ed0-a873-bc0a4351e561"
      },
      "execution_count": 71,
      "outputs": [
        {
          "output_type": "execute_result",
          "data": {
            "text/plain": [
              "array([[ 2, -1, -1,  0,  0,  0],\n",
              "       [-1,  2,  0, -1,  0,  0],\n",
              "       [-1,  0,  3,  0, -1, -1],\n",
              "       [ 0, -1,  0,  2,  0, -1],\n",
              "       [ 0,  0, -1,  0,  2, -1],\n",
              "       [ 0,  0, -1, -1, -1,  3]])"
            ]
          },
          "metadata": {},
          "execution_count": 71
        }
      ]
    },
    {
      "cell_type": "markdown",
      "source": [
        "# **The Example used in the Part 2 Notes**"
      ],
      "metadata": {
        "id": "aqVh4FslbyI4"
      }
    },
    {
      "cell_type": "code",
      "source": [
        "#G = nx.DiGraph() # for Laplacian Matrix you can not use the directed graph\n",
        "G = nx.Graph() \n",
        "G.add_edges_from(\n",
        "    [('A', 'B'), ('A', 'C'), ('B', 'D'), ('C', 'E'), ('C', 'F'),\n",
        "     ('E', 'F'), ('D', 'F'),\n",
        "     ('B', 'B'), ('F', 'F')\n",
        "     ])\n",
        "\n",
        "val_map = {'A': 1.0,\n",
        "           'B': 2.0,\n",
        "           'C': 3.0,\n",
        "           'D': 3.0, 'E': 2.0, 'F': 1.0}\n",
        "values = [val_map.get(node, 0.25) for node in G.nodes()]\n",
        "nx.draw(G, cmap=plt.get_cmap('viridis'), with_labels=True,  node_color=values, font_color='red')\n",
        "\n",
        "print(nx.is_weighted(G))\n",
        "print(nx.is_directed(G))"
      ],
      "metadata": {
        "id": "gW9NglZUbno_",
        "colab": {
          "base_uri": "https://localhost:8080/",
          "height": 354
        },
        "outputId": "2d3e971f-1387-4064-b91d-ccca912bb533"
      },
      "execution_count": 72,
      "outputs": [
        {
          "output_type": "stream",
          "name": "stdout",
          "text": [
            "False\n",
            "False\n"
          ]
        },
        {
          "output_type": "display_data",
          "data": {
            "text/plain": [
              "<Figure size 432x288 with 1 Axes>"
            ],
            "image/png": "[encoded data removed]"
          },
          "metadata": {}
        }
      ]
    },
    {
      "cell_type": "code",
      "source": [
        "# Trick\n",
        "#nx.draw(G.to_directed())\n",
        "nx.draw(G.to_directed(), cmap=plt.get_cmap('viridis'), with_labels=True,  node_color=values, font_color='red')"
      ],
      "metadata": {
        "colab": {
          "base_uri": "https://localhost:8080/",
          "height": 319
        },
        "id": "eCTpyuZVYvqL",
        "outputId": "9f74b728-ddac-4244-e70b-dc021fef40d5"
      },
      "execution_count": 73,
      "outputs": [
        {
          "output_type": "display_data",
          "data": {
            "text/plain": [
              "<Figure size 432x288 with 1 Axes>"
            ],
            "image/png": "[encoded data removed]"
          },
          "metadata": {}
        }
      ]
    },
    {
      "cell_type": "code",
      "source": [
        "I = nx.incidence_matrix(G)"
      ],
      "metadata": {
        "id": "-RgvklTCb1MG"
      },
      "execution_count": 74,
      "outputs": []
    },
    {
      "cell_type": "code",
      "source": [
        "I.todense()"
      ],
      "metadata": {
        "id": "AON6TT_jb40d",
        "colab": {
          "base_uri": "https://localhost:8080/"
        },
        "outputId": "dadc9b96-1e09-4673-9ece-73b2cbc56397"
      },
      "execution_count": 75,
      "outputs": [
        {
          "output_type": "execute_result",
          "data": {
            "text/plain": [
              "array([[1., 1., 0., 0., 0., 0., 0., 0., 0.],\n",
              "       [1., 0., 1., 0., 0., 0., 0., 0., 0.],\n",
              "       [0., 1., 0., 0., 1., 1., 0., 0., 0.],\n",
              "       [0., 0., 1., 0., 0., 0., 1., 0., 0.],\n",
              "       [0., 0., 0., 0., 1., 0., 0., 1., 0.],\n",
              "       [0., 0., 0., 0., 0., 1., 1., 1., 0.]])"
            ]
          },
          "metadata": {},
          "execution_count": 75
        }
      ]
    },
    {
      "cell_type": "markdown",
      "source": [
        "# **Rendering all nodes and edges**"
      ],
      "metadata": {
        "id": "iV8tAOerfw7m"
      }
    },
    {
      "cell_type": "code",
      "source": [
        " edge_labels={('A', 'B'): 'e1',  ('A', 'C'): 'e2', ('C', 'E'): 'e3', ('E', 'F'): 'e4', ('C', 'F'): 'ef', ('B', 'D'): 'e6', ('D', 'F'): 'e7'\n",
        "  , ('B', 'B'): 'e8', ('F', 'F'): 'e9'\n",
        " }\n",
        " all_edges = [('A', 'B'), ('A', 'C'), ('B', 'D'), ('C', 'E'), ('C', 'F'),\n",
        "     ('E', 'F'), ('D', 'F'),\n",
        "     ('B', 'B'), ('F', 'F')\n",
        "     ]"
      ],
      "metadata": {
        "id": "X_mNIsPbb6JR"
      },
      "execution_count": 76,
      "outputs": []
    },
    {
      "cell_type": "code",
      "source": [
        "#G = nx.DiGraph() # for Laplacian Matrix you can not use the directed graph\n",
        "G = nx.Graph() \n",
        "G.add_edges_from(all_edges)\n",
        "    \n",
        "\n",
        "val_map = {'A': 1.0,\n",
        "           'B': 2.0,\n",
        "           'C': 3.0,\n",
        "           'D': 4.0, 'E': 5.0, 'F': 6.0}\n",
        "values = [val_map.get(node, 0.25) for node in G.nodes()]\n",
        "\n",
        "pos = nx.spring_layout(G)\n",
        "plt.figure(figsize=(12,6))\n",
        "nx.draw(\n",
        "    G, pos, edge_color='black', width=1, linewidths=1,\n",
        "    node_size=500, node_color=values, alpha=0.9,\n",
        "    labels={node: node for node in G.nodes()}\n",
        ")\n",
        "nx.draw_networkx_edge_labels(\n",
        "    G, pos,\n",
        "    edge_labels=edge_labels,\n",
        "    font_color='red'\n",
        ")\n",
        "plt.axis('off')\n",
        "plt.show()\n",
        "print(nx.is_weighted(G))\n",
        "print(nx.is_directed(G))"
      ],
      "metadata": {
        "id": "2YsZvqNxeGK8",
        "colab": {
          "base_uri": "https://localhost:8080/",
          "height": 387
        },
        "outputId": "b081514d-62a0-4b31-a8c3-5413593a3f3a"
      },
      "execution_count": 77,
      "outputs": [
        {
          "output_type": "display_data",
          "data": {
            "text/plain": [
              "<Figure size 864x432 with 1 Axes>"
            ],
            "image/png": "[encoded data removed]"
          },
          "metadata": {}
        },
        {
          "output_type": "stream",
          "name": "stdout",
          "text": [
            "False\n",
            "False\n"
          ]
        }
      ]
    },
    {
      "cell_type": "code",
      "source": [
        "print(G.number_of_nodes())\n",
        "print(G.number_of_edges())"
      ],
      "metadata": {
        "colab": {
          "base_uri": "https://localhost:8080/"
        },
        "id": "D18e6uHmWA6l",
        "outputId": "bca7fbc8-7e24-4beb-b5f8-9d63f4a44dd5"
      },
      "execution_count": 78,
      "outputs": [
        {
          "output_type": "stream",
          "name": "stdout",
          "text": [
            "6\n",
            "9\n"
          ]
        }
      ]
    },
    {
      "cell_type": "code",
      "source": [
        "#nx.to_numpy_matrix(G)"
      ],
      "metadata": {
        "id": "498BA-jznDug"
      },
      "execution_count": 80,
      "outputs": []
    },
    {
      "cell_type": "code",
      "source": [
        "nx.to_numpy_matrix(G.to_directed())"
      ],
      "metadata": {
        "id": "pL__Be-Lei7a",
        "colab": {
          "base_uri": "https://localhost:8080/"
        },
        "outputId": "a386e0ca-851f-49b9-a5fb-b73f492c82b5"
      },
      "execution_count": null,
      "outputs": [
        {
          "output_type": "execute_result",
          "data": {
            "text/plain": [
              "matrix([[0., 1., 1., 0., 0., 0.],\n",
              "        [1., 1., 0., 1., 0., 0.],\n",
              "        [1., 0., 0., 0., 1., 1.],\n",
              "        [0., 1., 0., 0., 0., 1.],\n",
              "        [0., 0., 1., 0., 0., 1.],\n",
              "        [0., 0., 1., 1., 1., 1.]])"
            ]
          },
          "metadata": {},
          "execution_count": 71
        }
      ]
    },
    {
      "cell_type": "markdown",
      "source": [
        "## **Adjacency Matrix**"
      ],
      "metadata": {
        "id": "lFkUuLfwhtdW"
      }
    },
    {
      "cell_type": "code",
      "source": [
        "A = nx.adjacency_matrix(G)"
      ],
      "metadata": {
        "id": "OvruowU2fnip"
      },
      "execution_count": 81,
      "outputs": []
    },
    {
      "cell_type": "code",
      "source": [
        "A.todense()"
      ],
      "metadata": {
        "id": "LUAAWjFPglU7",
        "colab": {
          "base_uri": "https://localhost:8080/"
        },
        "outputId": "98a2a4aa-68b7-42c3-e680-3fbf0c19f3ac"
      },
      "execution_count": 82,
      "outputs": [
        {
          "output_type": "execute_result",
          "data": {
            "text/plain": [
              "array([[0, 1, 1, 0, 0, 0],\n",
              "       [1, 1, 0, 1, 0, 0],\n",
              "       [1, 0, 0, 0, 1, 1],\n",
              "       [0, 1, 0, 0, 0, 1],\n",
              "       [0, 0, 1, 0, 0, 1],\n",
              "       [0, 0, 1, 1, 1, 1]])"
            ]
          },
          "metadata": {},
          "execution_count": 82
        }
      ]
    },
    {
      "cell_type": "code",
      "source": [
        "A.diagonal()"
      ],
      "metadata": {
        "id": "q32XWB0jhxWc",
        "colab": {
          "base_uri": "https://localhost:8080/"
        },
        "outputId": "097b7ec3-98cc-4ac3-b5c3-97cecbc37e8c"
      },
      "execution_count": 83,
      "outputs": [
        {
          "output_type": "execute_result",
          "data": {
            "text/plain": [
              "array([0, 1, 0, 0, 0, 1])"
            ]
          },
          "metadata": {},
          "execution_count": 83
        }
      ]
    },
    {
      "cell_type": "code",
      "source": [
        "for line in nx.generate_adjlist(G):\n",
        "  print(line)"
      ],
      "metadata": {
        "colab": {
          "base_uri": "https://localhost:8080/"
        },
        "id": "C2cHKc6ybRK6",
        "outputId": "15a18ec3-17a4-4e96-f4ec-164292b16f88"
      },
      "execution_count": 84,
      "outputs": [
        {
          "output_type": "stream",
          "name": "stdout",
          "text": [
            "A B C\n",
            "B D B\n",
            "C E F\n",
            "D F\n",
            "E F\n",
            "F F\n"
          ]
        }
      ]
    },
    {
      "cell_type": "markdown",
      "source": [
        "# **Listing all adjecent nodes**"
      ],
      "metadata": {
        "id": "OwPiYL3mlHwO"
      }
    },
    {
      "cell_type": "code",
      "source": [
        "def get_adjanct_list_with_all_edges(graph_val):\n",
        "     for s, neighbors in graph_val.adjacency():\n",
        "        line = str(s) + ' : '\n",
        "        for t, data in neighbors.items():\n",
        "                line += str(t) + ' - '\n",
        "        yield line[: -len(' ')]"
      ],
      "metadata": {
        "id": "Y1Ta93EvbcPl"
      },
      "execution_count": 85,
      "outputs": []
    },
    {
      "cell_type": "code",
      "source": [
        "for line in get_adjanct_list_with_all_edges(G):\n",
        "    print(line)"
      ],
      "metadata": {
        "colab": {
          "base_uri": "https://localhost:8080/"
        },
        "id": "oBFrA1r5bgMu",
        "outputId": "da109f20-269f-434f-874e-3c082f2c89ef"
      },
      "execution_count": 86,
      "outputs": [
        {
          "output_type": "stream",
          "name": "stdout",
          "text": [
            "A : B - C -\n",
            "B : A - D - B -\n",
            "C : A - E - F -\n",
            "D : B - F -\n",
            "E : C - F -\n",
            "F : C - E - D - F -\n"
          ]
        }
      ]
    },
    {
      "cell_type": "code",
      "source": [],
      "metadata": {
        "id": "rWLoGi_YWygB"
      },
      "execution_count": null,
      "outputs": []
    },
    {
      "cell_type": "markdown",
      "source": [
        "# **Incidence Matrix**"
      ],
      "metadata": {
        "id": "u-dACxjzhwmJ"
      }
    },
    {
      "cell_type": "code",
      "source": [
        "I = nx.incidence_matrix(G)"
      ],
      "metadata": {
        "id": "bAvjBHpxgmnd"
      },
      "execution_count": 87,
      "outputs": []
    },
    {
      "cell_type": "code",
      "source": [
        "I.todense()"
      ],
      "metadata": {
        "id": "FsUXA8Jrgpi7",
        "colab": {
          "base_uri": "https://localhost:8080/"
        },
        "outputId": "f81f1393-93f4-47a3-b181-a8993d38f315"
      },
      "execution_count": 88,
      "outputs": [
        {
          "output_type": "execute_result",
          "data": {
            "text/plain": [
              "array([[1., 1., 0., 0., 0., 0., 0., 0., 0.],\n",
              "       [1., 0., 1., 0., 0., 0., 0., 0., 0.],\n",
              "       [0., 1., 0., 0., 1., 1., 0., 0., 0.],\n",
              "       [0., 0., 1., 0., 0., 0., 1., 0., 0.],\n",
              "       [0., 0., 0., 0., 1., 0., 0., 1., 0.],\n",
              "       [0., 0., 0., 0., 0., 1., 1., 1., 0.]])"
            ]
          },
          "metadata": {},
          "execution_count": 88
        }
      ]
    },
    {
      "cell_type": "markdown",
      "source": [
        "# **Node Degree**"
      ],
      "metadata": {
        "id": "VsUAzhnOh4bC"
      }
    },
    {
      "cell_type": "code",
      "source": [
        "G.degree()"
      ],
      "metadata": {
        "id": "3WxNXxy6gqmi",
        "colab": {
          "base_uri": "https://localhost:8080/"
        },
        "outputId": "e9f87ebe-971b-48fe-da9f-d8e2ca518ae6"
      },
      "execution_count": 89,
      "outputs": [
        {
          "output_type": "execute_result",
          "data": {
            "text/plain": [
              "DegreeView({'A': 2, 'B': 4, 'C': 3, 'D': 2, 'E': 2, 'F': 5})"
            ]
          },
          "metadata": {},
          "execution_count": 89
        }
      ]
    },
    {
      "cell_type": "markdown",
      "source": [
        "# **Laplacian Matrix**"
      ],
      "metadata": {
        "id": "jLVUN3nph_VX"
      }
    },
    {
      "cell_type": "code",
      "source": [
        "L = nx.laplacian_matrix(G)"
      ],
      "metadata": {
        "id": "XYmoE8v2gxLH"
      },
      "execution_count": 90,
      "outputs": []
    },
    {
      "cell_type": "code",
      "source": [
        "L.todense()"
      ],
      "metadata": {
        "id": "a9ldOzE-gyYG",
        "colab": {
          "base_uri": "https://localhost:8080/"
        },
        "outputId": "75e106da-dd61-4d49-bc72-ef45856339a9"
      },
      "execution_count": 91,
      "outputs": [
        {
          "output_type": "execute_result",
          "data": {
            "text/plain": [
              "array([[ 2, -1, -1,  0,  0,  0],\n",
              "       [-1,  2,  0, -1,  0,  0],\n",
              "       [-1,  0,  3,  0, -1, -1],\n",
              "       [ 0, -1,  0,  2,  0, -1],\n",
              "       [ 0,  0, -1,  0,  2, -1],\n",
              "       [ 0,  0, -1, -1, -1,  3]])"
            ]
          },
          "metadata": {},
          "execution_count": 91
        }
      ]
    },
    {
      "cell_type": "code",
      "source": [
        "L.todense().diagonal()"
      ],
      "metadata": {
        "id": "gQENRI9Qh-EB",
        "colab": {
          "base_uri": "https://localhost:8080/"
        },
        "outputId": "25fbe928-6f31-4774-b756-66ed60512a3c"
      },
      "execution_count": 92,
      "outputs": [
        {
          "output_type": "execute_result",
          "data": {
            "text/plain": [
              "array([2, 2, 3, 2, 2, 3])"
            ]
          },
          "metadata": {},
          "execution_count": 92
        }
      ]
    },
    {
      "cell_type": "markdown",
      "source": [
        "# **Graph Walking**\n",
        "- Traversing the graph through the connected nodes\n",
        "- Reference: https://www.analyticsvidhya.com/blog/2019/11/graph-feature-extraction-deepwalk/"
      ],
      "metadata": {
        "id": "N0eNhkkyshAt"
      }
    },
    {
      "cell_type": "code",
      "source": [
        "import random\n",
        "def get_randomwalk(graph_val, node, path_length):\n",
        "    \n",
        "    random_walk = [node]\n",
        "    \n",
        "    for i in range(path_length-1):\n",
        "        temp = list(graph_val.neighbors(node))\n",
        "        temp = list(set(temp) - set(random_walk))    \n",
        "        if len(temp) == 0:\n",
        "            break\n",
        "\n",
        "        random_node = random.choice(temp)\n",
        "        random_walk.append(random_node)\n",
        "        node = random_node\n",
        "        \n",
        "    return random_walk"
      ],
      "metadata": {
        "id": "QGPRusuuUqqc"
      },
      "execution_count": 93,
      "outputs": []
    },
    {
      "cell_type": "code",
      "source": [
        "get_randomwalk(G, 'E', 5)"
      ],
      "metadata": {
        "colab": {
          "base_uri": "https://localhost:8080/"
        },
        "id": "DTCVYyh0r8oC",
        "outputId": "f19c5103-7980-4bfd-cbb0-dffb0a6de18a"
      },
      "execution_count": 94,
      "outputs": [
        {
          "output_type": "execute_result",
          "data": {
            "text/plain": [
              "['E', 'F', 'C', 'A', 'B']"
            ]
          },
          "metadata": {},
          "execution_count": 94
        }
      ]
    },
    {
      "cell_type": "code",
      "source": [
        "from tqdm import tqdm\n",
        "# get list of all nodes from the graph\n",
        "all_nodes = list(G.nodes())\n",
        "\n",
        "random_walks = []\n",
        "for n in tqdm(all_nodes):\n",
        "    for i in range(10):\n",
        "        random_walks.append(get_randomwalk(G, n, i))\n",
        "        \n",
        "# count of sequences\n",
        "len(random_walks)"
      ],
      "metadata": {
        "colab": {
          "base_uri": "https://localhost:8080/"
        },
        "id": "mb4CURc4r_zu",
        "outputId": "32a7dc7f-0eb5-4bb7-acc9-235e04b420eb"
      },
      "execution_count": 95,
      "outputs": [
        {
          "output_type": "stream",
          "name": "stderr",
          "text": [
            "100%|██████████| 6/6 [00:00<00:00, 11607.85it/s]\n"
          ]
        },
        {
          "output_type": "execute_result",
          "data": {
            "text/plain": [
              "60"
            ]
          },
          "metadata": {},
          "execution_count": 95
        }
      ]
    },
    {
      "cell_type": "code",
      "source": [],
      "metadata": {
        "id": "VtBGeI7WsbrA"
      },
      "execution_count": null,
      "outputs": []
    }
  ]
}